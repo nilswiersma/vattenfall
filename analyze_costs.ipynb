{
 "cells": [
  {
   "cell_type": "code",
   "execution_count": null,
   "metadata": {},
   "outputs": [],
   "source": [
    "import json\n",
    "import logging\n",
    "import pandas as pd\n",
    "\n",
    "from pathlib import Path"
   ]
  },
  {
   "cell_type": "code",
   "execution_count": null,
   "metadata": {},
   "outputs": [],
   "source": [
    "json_filename = list(Path('.').glob('.cached_costs*.json'))[-1]\n",
    "print(json_filename)"
   ]
  },
  {
   "cell_type": "code",
   "execution_count": null,
   "metadata": {},
   "outputs": [],
   "source": [
    "# with open('.cached_costs.json') as f:\n",
    "with open(json_filename) as f:\n",
    "    \n",
    "    data_json = json.load(f)\n",
    "\n",
    "    print(data_json['ConsumptionHeaderSet'][0]['Product'])\n",
    "    print(len(data_json['ConsumptionHeaderSet'][0]['ConsumptionSet']))"
   ]
  },
  {
   "cell_type": "code",
   "execution_count": null,
   "metadata": {},
   "outputs": [],
   "source": [
    "with open(json_filename) as f:\n",
    "    data_json = json.load(f)\n",
    "\n",
    "    data_idx = 0\n",
    "    Product = data_json['ConsumptionHeaderSet'][data_idx]['Product']\n",
    "    print(data_idx, Product)\n",
    "    \n",
    "    df_g = pd.DataFrame(data_json['ConsumptionHeaderSet'][data_idx]['ConsumptionSet'])\n",
    "    df_g['Product'] = Product\n",
    "    df_g['period'] = df_g.index // 12\n",
    "    df_g['Quantity'] = df_g['Quantity'].apply(float)\n",
    "    display(df_g.describe())\n",
    "\n",
    "    data_idx = 1\n",
    "    Product = data_json['ConsumptionHeaderSet'][1]['Product']\n",
    "    print(data_idx, Product)\n",
    "\n",
    "    df_e = pd.DataFrame(data_json['ConsumptionHeaderSet'][1]['ConsumptionSet'])\n",
    "    df_e['Product'] = Product\n",
    "    df_e['period'] = df_e.index // 12\n",
    "    df_e['Quantity'] = df_e['Quantity'].apply(float)\n",
    "    display(df_e.describe())\n",
    "\n",
    "    df = pd.concat([df_g, df_e])\n",
    "    df_noerror_filter = df['ErrorCode'] == 0\n",
    "    print(\"Rows with an error:\")\n",
    "    display(df[~df_noerror_filter])\n",
    "\n",
    "    print(\"Rows with negative money:\")\n",
    "    display(df[df['AmountInclVAT'] < 0])\n"
   ]
  },
  {
   "cell_type": "code",
   "execution_count": null,
   "metadata": {},
   "outputs": [],
   "source": [
    "display(df[df_noerror_filter].groupby(['Product', 'period'])[['Quantity', 'AmountInclVAT']].agg('sum'))\n",
    "display(df[df_noerror_filter].groupby(['period'])[['AmountInclVAT']].agg(('sum', 'count')))"
   ]
  }
 ],
 "metadata": {
  "kernelspec": {
   "display_name": "Python 3.10.4 ('.venv': venv)",
   "language": "python",
   "name": "python3"
  },
  "language_info": {
   "codemirror_mode": {
    "name": "ipython",
    "version": 3
   },
   "file_extension": ".py",
   "mimetype": "text/x-python",
   "name": "python",
   "nbconvert_exporter": "python",
   "pygments_lexer": "ipython3",
   "version": "3.10.4"
  },
  "orig_nbformat": 4,
  "vscode": {
   "interpreter": {
    "hash": "ccd5c7b070c8954f0b8d1b54a63e53783682fc93b612a7d8d1e07e31e7a8ad83"
   }
  }
 },
 "nbformat": 4,
 "nbformat_minor": 2
}
